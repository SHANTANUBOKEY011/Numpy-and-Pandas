{
  "nbformat": 4,
  "nbformat_minor": 0,
  "metadata": {
    "kernelspec": {
      "display_name": "Python 3",
      "language": "python",
      "name": "python3"
    },
    "language_info": {
      "codemirror_mode": {
        "name": "ipython",
        "version": 3
      },
      "file_extension": ".py",
      "mimetype": "text/x-python",
      "name": "python",
      "nbconvert_exporter": "python",
      "pygments_lexer": "ipython3",
      "version": "3.7.1"
    },
    "colab": {
      "name": "Introduction to Pandas.ipynb",
      "provenance": [],
      "collapsed_sections": [
        "xh3KplZjOWH-",
        "ydCFb8tOfND3"
      ],
      "include_colab_link": true
    }
  },
  "cells": [
    {
      "cell_type": "markdown",
      "metadata": {
        "id": "view-in-github",
        "colab_type": "text"
      },
      "source": [
        "<a href=\"https://colab.research.google.com/github/SHANTANUBOKEY011/Numpy-and-Pandas/blob/main/Introduction_to_Pandas.ipynb\" target=\"_parent\"><img src=\"https://colab.research.google.com/assets/colab-badge.svg\" alt=\"Open In Colab\"/></a>"
      ]
    },
    {
      "cell_type": "markdown",
      "metadata": {
        "id": "_eju2_y_xsTs"
      },
      "source": [
        "## **Pandas is a Python package providing fast, flexible, and expressive data structures designed to make working with structured (tabular, multidimensional, potentially heterogeneous) and time series data both easy and intuitive. It aims to be the fundamental high-level building block for doing practical, real world data analysis in Python.**"
      ]
    },
    {
      "cell_type": "markdown",
      "metadata": {
        "id": "7r5OxKMfnKNM"
      },
      "source": [
        "### <b>Pandas</b> is designed to make it easier to work with structured data. Most of the analyses you might perform will likely involve using tabular data, e.g., from .csv files or relational databases (e.g., SQL). The DataFrame object in pandas is \"a two-dimensional tabular, column-oriented data structure with both row and column labels.\"\n",
        "\n",
        "### Here are just a few of the things that pandas does well:\n",
        "\n",
        "* #### Robust IO tools for loading data from flat files (CSV and delimited), Excel files, databases, and saving / loading data from the ultrafast HDF5 format\n",
        "* #### Easy handling of missing data (represented as NaN) in floating point as well as non-floating point data\n",
        "* #### Size mutability: columns can be inserted and deleted from DataFrame and higher dimensional objects\n",
        "* #### Automatic and explicit data alignment: objects can be explicitly aligned to a set of labels, or the user can simply ignore the labels and let Series, DataFrame, etc. automatically align the data for you in computations\n",
        "* #### Powerful, flexible group by functionality to perform split-apply-combine operations on data sets, for both aggregating and transforming data\n",
        "* #### Make it easy to convert ragged, differently-indexed data in other Python and NumPy data structures into DataFrame objects\n",
        "* #### Intelligent label-based slicing, fancy indexing, and subsetting of large data sets\n",
        "* #### Intuitive merging and joining data sets\n",
        "* #### Flexible reshaping and pivoting of data sets\n",
        "* #### Hierarchical labeling of axes (possible to have multiple labels per tick)\n",
        "* #### Time series-specific functionality: date range generation and frequency conversion, moving window statistics, moving window linear regressions, date shifting and lagging, etc.\n",
        "\n",
        "\n"
      ]
    },
    {
      "cell_type": "markdown",
      "metadata": {
        "id": "pMYT7tzFySMk"
      },
      "source": [
        "### <u>If you're curious:</u>\n",
        "\n",
        "#### The pandas name itself is derived from panel data, an econometrics term for multidimensional structured data sets, and Python data analysis itself. After getting introduced, you can consult the full pandas documentation.\n",
        "https://pandas.pydata.org/pandas-docs/stable/?v=20190919220335\n",
        "\n",
        "#### Pandas Cheatsheet: https://assets.datacamp.com/blog_assets/PandasPythonForDataScience.pdf"
      ]
    },
    {
      "cell_type": "code",
      "metadata": {
        "id": "vq7iMfybnKNP"
      },
      "source": [
        "#Import package\n",
        "import pandas as pd\n",
        "import numpy as np"
      ],
      "execution_count": null,
      "outputs": []
    },
    {
      "cell_type": "code",
      "metadata": {
        "scrolled": true,
        "id": "TFd7IWExnKNU",
        "colab": {
          "base_uri": "https://localhost:8080/",
          "height": 35
        },
        "outputId": "10c3eff2-a603-43c4-9e5f-d8add822af17"
      },
      "source": [
        "# Version of pandas\n",
        "pd.__version__"
      ],
      "execution_count": null,
      "outputs": [
        {
          "output_type": "execute_result",
          "data": {
            "application/vnd.google.colaboratory.intrinsic+json": {
              "type": "string"
            },
            "text/plain": [
              "'1.1.3'"
            ]
          },
          "metadata": {
            "tags": []
          },
          "execution_count": 2
        }
      ]
    },
    {
      "cell_type": "markdown",
      "metadata": {
        "id": "qoUwp8Ng1OkJ"
      },
      "source": [
        "##**<u> What are Pandas Dataframes?</u>**\n",
        "\n",
        "* #### In the chapters introducing Python lists and numpy arrays, you learn that both of these data structures can store collections of values, instead of just single values. You also learned that while Python lists are flexible and can store data items of various types (e.g. integers, floats, text strings), numpy arrays require all data elements to be of the same type. Because of this requirement, numpy arrays can provide more functionality for running calculations such as element-by-element arithmetic operations (e.g. multiplication of each element in the numpy array by the same value) that Python lists do not support.\n",
        "\n",
        "* #### You may now be noticing that each data structure provides different functionality that can be useful in different workflows.\n",
        "\n",
        "* #### In this chapter, you will learn about Pandas dataframes, a data structure in Python that provides the ability to work with tabular data. Pandas dataframes are composed of rows and columns that can have header names, and the columns in pandas dataframes can be different types (e.g. the first column containing integers and the second column containing text strings). Each value in pandas dataframe is referred to as a cell that has a specific row index and column index within the tabular structure."
      ]
    },
    {
      "cell_type": "markdown",
      "metadata": {
        "id": "fUrBDiqRnKNf"
      },
      "source": [
        "## There are two central concepts which you should know about:\n",
        "\n",
        "* ### <u>**Series**</u> : A <code>series</code> is essentially a column\n",
        "* ### <u>**Data Frame**</u> : A <code>DataFrame</code> is a two-dimensional data structure, i.e., data is aligned in a tabular fashion in rows and columns. Pandas DataFrame consists of three principal components, the data, rows, and columns."
      ]
    },
    {
      "cell_type": "markdown",
      "metadata": {
        "id": "tJw1_2KqBQIR"
      },
      "source": [
        "![DataFrame 1.PNG](data:image/png;base64,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)"
      ]
    },
    {
      "cell_type": "markdown",
      "metadata": {
        "id": "fGWYoAeHEOsP"
      },
      "source": [
        "## <u><b>Distinguishing Characteristics of Pandas DataFrame</b></u>\n",
        "\n",
        "### These characteristics (i.e. tabular format with rows and columns that can have headers) make pandas dataframes very versatile for not only storing different types, but for maintaining the relationships between cells across the same row and/or column.\n",
        "\n",
        "### Recall that in the chapter on numpy arrays, you could not easily connect the values across two numpy arrays, such as those for precip and months. Using a pandas dataframe, the relationship between the value January in the months column and the value 0.70 in the precip column is maintained."
      ]
    },
    {
      "cell_type": "markdown",
      "metadata": {
        "id": "654JlOVgEin0"
      },
      "source": [
        "* ### These two values (<code>Apples</code> and <code>3</code>) are considered part of the same record, representing the same observation in the pandas dataframe. In addition, pandas dataframes have other unique characteristics that differentiate them from other data structures:\n",
        "\n",
        "* ### Each column in a pandas dataframe can have a label name (i.e. header name such as <code>Oranges</code>) and can contain a different type of data from its neighboring columns.\n",
        "\n",
        "* ### By default, each row has an index within a range of values beginning at $[0]$. However, the row index in pandas dataframes can also be set as labels (e.g. a location name, date).\n",
        "\n",
        "* ### All cells in a pandas dataframe have both a row index and a column index (i.e. two-dimensional table structure), even if there is only one cell (i.e. value) in the pandas dataframe.\n",
        "\n",
        "* ### In addition to selecting cells through location-based indexing (e.g. cell at row 1, column 1), you can also query for data within pandas dataframes based on specific values (e.g. querying for specific text strings or numeric values).\n",
        "\n",
        "* ### Because of the tabular structure, you can work with cells in pandas dataframes:\n",
        " * ##### across an entire row\n",
        " * ##### across an entire column (or series, a one-dimensional array in pandas)\n",
        " * ##### by selecting cells based on location or specific values\n",
        "\n",
        "* ### Due to its inherent tabular structure, pandas dataframes also allow for cells to have null values (i.e. no data value such as blank space, NaN, -999, etc)."
      ]
    },
    {
      "cell_type": "markdown",
      "metadata": {
        "id": "gRd_inN_GfQ0"
      },
      "source": [
        "## <b>Let us go ahead and create our first Pandas Series</b>"
      ]
    },
    {
      "cell_type": "code",
      "metadata": {
        "id": "DKiYtZkunKNg",
        "colab": {
          "base_uri": "https://localhost:8080/",
          "height": 122
        },
        "outputId": "0a5db400-56cc-49d8-c2e7-c426e543ab7f"
      },
      "source": [
        "# Our first series\n",
        "number_series = pd.Series([2, 3, 5, 6, 8])\n",
        "print(number_series)"
      ],
      "execution_count": null,
      "outputs": [
        {
          "output_type": "stream",
          "text": [
            "0    2\n",
            "1    3\n",
            "2    5\n",
            "3    6\n",
            "4    8\n",
            "dtype: int64\n"
          ],
          "name": "stdout"
        }
      ]
    },
    {
      "cell_type": "code",
      "metadata": {
        "id": "7BkLk3SjGuQ3",
        "colab": {
          "base_uri": "https://localhost:8080/",
          "height": 122
        },
        "outputId": "8f91e54e-d87e-4f43-83e7-ba875efbe131"
      },
      "source": [
        "# Same series but with different indices\n",
        "number_series = pd.Series([2, 3, 5, 6, 8],index=['a', 'b', 'd','e','f'],name='Number')\n",
        "print(number_series)"
      ],
      "execution_count": null,
      "outputs": [
        {
          "output_type": "stream",
          "text": [
            "a    2\n",
            "b    3\n",
            "d    5\n",
            "e    6\n",
            "f    8\n",
            "Name: Number, dtype: int64\n"
          ],
          "name": "stdout"
        }
      ]
    },
    {
      "cell_type": "code",
      "metadata": {
        "id": "Lh6aIi9JGqRB",
        "colab": {
          "base_uri": "https://localhost:8080/",
          "height": 52
        },
        "outputId": "407cabe4-4f95-4f65-f727-6c46cda470e7"
      },
      "source": [
        "print(number_series[0])\n",
        "print(number_series['a'])"
      ],
      "execution_count": null,
      "outputs": [
        {
          "output_type": "stream",
          "text": [
            "2\n",
            "2\n"
          ],
          "name": "stdout"
        }
      ]
    },
    {
      "cell_type": "markdown",
      "metadata": {
        "id": "JqswMRaCMAwm"
      },
      "source": [
        "## <b>Let us go ahead and create our first Pandas DataFrame</b>"
      ]
    },
    {
      "cell_type": "markdown",
      "metadata": {
        "id": "xh3KplZjOWH-"
      },
      "source": [
        "### Using a 2-D NumPy array"
      ]
    },
    {
      "cell_type": "code",
      "metadata": {
        "id": "kP7-DAVpnKNj",
        "colab": {
          "base_uri": "https://localhost:8080/",
          "height": 141
        },
        "outputId": "9231cc48-18aa-4b97-af83-d292b14a4a19"
      },
      "source": [
        "# Creating our first DataFrame\n",
        "some_2D_array = np.random.randint(4, 6,(3,4))\n",
        "first_dataframe = pd.DataFrame(some_2D_array , columns=['Akshay','Devashish','Divy','Monika'])\n",
        "first_dataframe"
      ],
      "execution_count": null,
      "outputs": [
        {
          "output_type": "execute_result",
          "data": {
            "text/html": [
              "<div>\n",
              "<style scoped>\n",
              "    .dataframe tbody tr th:only-of-type {\n",
              "        vertical-align: middle;\n",
              "    }\n",
              "\n",
              "    .dataframe tbody tr th {\n",
              "        vertical-align: top;\n",
              "    }\n",
              "\n",
              "    .dataframe thead th {\n",
              "        text-align: right;\n",
              "    }\n",
              "</style>\n",
              "<table border=\"1\" class=\"dataframe\">\n",
              "  <thead>\n",
              "    <tr style=\"text-align: right;\">\n",
              "      <th></th>\n",
              "      <th>Akshay</th>\n",
              "      <th>Devashish</th>\n",
              "      <th>Divy</th>\n",
              "      <th>Monika</th>\n",
              "    </tr>\n",
              "  </thead>\n",
              "  <tbody>\n",
              "    <tr>\n",
              "      <th>0</th>\n",
              "      <td>4</td>\n",
              "      <td>4</td>\n",
              "      <td>4</td>\n",
              "      <td>4</td>\n",
              "    </tr>\n",
              "    <tr>\n",
              "      <th>1</th>\n",
              "      <td>5</td>\n",
              "      <td>4</td>\n",
              "      <td>4</td>\n",
              "      <td>4</td>\n",
              "    </tr>\n",
              "    <tr>\n",
              "      <th>2</th>\n",
              "      <td>4</td>\n",
              "      <td>5</td>\n",
              "      <td>5</td>\n",
              "      <td>4</td>\n",
              "    </tr>\n",
              "  </tbody>\n",
              "</table>\n",
              "</div>"
            ],
            "text/plain": [
              "   Akshay  Devashish  Divy  Monika\n",
              "0       4          4     4       4\n",
              "1       5          4     4       4\n",
              "2       4          5     5       4"
            ]
          },
          "metadata": {
            "tags": []
          },
          "execution_count": 91
        }
      ]
    },
    {
      "cell_type": "code",
      "metadata": {
        "id": "rtVozuMhNAh8",
        "colab": {
          "base_uri": "https://localhost:8080/",
          "height": 141
        },
        "outputId": "3e65e244-08f0-4c26-b307-e36061c4cd97"
      },
      "source": [
        "# Lets create the same dataframe but different indices\n",
        "another_dataframe = pd.DataFrame(some_2D_array, columns=['A','B','C','D'],index = ['First','Second','Third'])\n",
        "another_dataframe"
      ],
      "execution_count": null,
      "outputs": [
        {
          "output_type": "execute_result",
          "data": {
            "text/html": [
              "<div>\n",
              "<style scoped>\n",
              "    .dataframe tbody tr th:only-of-type {\n",
              "        vertical-align: middle;\n",
              "    }\n",
              "\n",
              "    .dataframe tbody tr th {\n",
              "        vertical-align: top;\n",
              "    }\n",
              "\n",
              "    .dataframe thead th {\n",
              "        text-align: right;\n",
              "    }\n",
              "</style>\n",
              "<table border=\"1\" class=\"dataframe\">\n",
              "  <thead>\n",
              "    <tr style=\"text-align: right;\">\n",
              "      <th></th>\n",
              "      <th>A</th>\n",
              "      <th>B</th>\n",
              "      <th>C</th>\n",
              "      <th>D</th>\n",
              "    </tr>\n",
              "  </thead>\n",
              "  <tbody>\n",
              "    <tr>\n",
              "      <th>First</th>\n",
              "      <td>4</td>\n",
              "      <td>4</td>\n",
              "      <td>4</td>\n",
              "      <td>4</td>\n",
              "    </tr>\n",
              "    <tr>\n",
              "      <th>Second</th>\n",
              "      <td>5</td>\n",
              "      <td>4</td>\n",
              "      <td>4</td>\n",
              "      <td>4</td>\n",
              "    </tr>\n",
              "    <tr>\n",
              "      <th>Third</th>\n",
              "      <td>4</td>\n",
              "      <td>5</td>\n",
              "      <td>5</td>\n",
              "      <td>4</td>\n",
              "    </tr>\n",
              "  </tbody>\n",
              "</table>\n",
              "</div>"
            ],
            "text/plain": [
              "        A  B  C  D\n",
              "First   4  4  4  4\n",
              "Second  5  4  4  4\n",
              "Third   4  5  5  4"
            ]
          },
          "metadata": {
            "tags": []
          },
          "execution_count": 93
        }
      ]
    },
    {
      "cell_type": "markdown",
      "metadata": {
        "id": "9wJSFUR-OaY9"
      },
      "source": [
        "## Using a conventional list of lists"
      ]
    },
    {
      "cell_type": "code",
      "metadata": {
        "id": "n7SGPKHinKNl",
        "colab": {
          "base_uri": "https://localhost:8080/",
          "height": 141
        },
        "outputId": "f3d1f56b-a183-45ee-c4f5-e75f044075a8"
      },
      "source": [
        "# Initialize list of lists\n",
        "list_of_lists = [['Amar', 10], ['Akbar', 15], ['Anthony', 14]]\n",
        "\n",
        "# Create the pandas DataFrame\n",
        "df = pd.DataFrame(list_of_lists, columns = ['Name', 'Age'])\n",
        "\n",
        "# Print dataframe\n",
        "df"
      ],
      "execution_count": null,
      "outputs": [
        {
          "output_type": "execute_result",
          "data": {
            "text/html": [
              "<div>\n",
              "<style scoped>\n",
              "    .dataframe tbody tr th:only-of-type {\n",
              "        vertical-align: middle;\n",
              "    }\n",
              "\n",
              "    .dataframe tbody tr th {\n",
              "        vertical-align: top;\n",
              "    }\n",
              "\n",
              "    .dataframe thead th {\n",
              "        text-align: right;\n",
              "    }\n",
              "</style>\n",
              "<table border=\"1\" class=\"dataframe\">\n",
              "  <thead>\n",
              "    <tr style=\"text-align: right;\">\n",
              "      <th></th>\n",
              "      <th>Name</th>\n",
              "      <th>Age</th>\n",
              "    </tr>\n",
              "  </thead>\n",
              "  <tbody>\n",
              "    <tr>\n",
              "      <th>0</th>\n",
              "      <td>Amar</td>\n",
              "      <td>10</td>\n",
              "    </tr>\n",
              "    <tr>\n",
              "      <th>1</th>\n",
              "      <td>Akbar</td>\n",
              "      <td>15</td>\n",
              "    </tr>\n",
              "    <tr>\n",
              "      <th>2</th>\n",
              "      <td>Anthony</td>\n",
              "      <td>14</td>\n",
              "    </tr>\n",
              "  </tbody>\n",
              "</table>\n",
              "</div>"
            ],
            "text/plain": [
              "      Name  Age\n",
              "0     Amar   10\n",
              "1    Akbar   15\n",
              "2  Anthony   14"
            ]
          },
          "metadata": {
            "tags": []
          },
          "execution_count": 94
        }
      ]
    },
    {
      "cell_type": "markdown",
      "metadata": {
        "id": "rP5jYvozOhwH"
      },
      "source": [
        "## Using a dictionary"
      ]
    },
    {
      "cell_type": "code",
      "metadata": {
        "id": "pdVhMk4SnKNo",
        "colab": {
          "base_uri": "https://localhost:8080/",
          "height": 141
        },
        "outputId": "d8a7d5c4-8148-415a-ead7-86aec7ce7c97"
      },
      "source": [
        "# Store the data in a dictionary\n",
        "employee_dict = {'Employee Name':['Rajeev', 'Sumit', 'Aviral'], 'Income':[200000, 140000, 90000]}\n",
        "\n",
        "# Create DataFrame\n",
        "employee_df = pd.DataFrame(employee_dict)\n",
        "\n",
        "# Print the dataframe\n",
        "employee_df"
      ],
      "execution_count": null,
      "outputs": [
        {
          "output_type": "execute_result",
          "data": {
            "text/html": [
              "<div>\n",
              "<style scoped>\n",
              "    .dataframe tbody tr th:only-of-type {\n",
              "        vertical-align: middle;\n",
              "    }\n",
              "\n",
              "    .dataframe tbody tr th {\n",
              "        vertical-align: top;\n",
              "    }\n",
              "\n",
              "    .dataframe thead th {\n",
              "        text-align: right;\n",
              "    }\n",
              "</style>\n",
              "<table border=\"1\" class=\"dataframe\">\n",
              "  <thead>\n",
              "    <tr style=\"text-align: right;\">\n",
              "      <th></th>\n",
              "      <th>Employee Name</th>\n",
              "      <th>Income</th>\n",
              "    </tr>\n",
              "  </thead>\n",
              "  <tbody>\n",
              "    <tr>\n",
              "      <th>0</th>\n",
              "      <td>Rajeev</td>\n",
              "      <td>200000</td>\n",
              "    </tr>\n",
              "    <tr>\n",
              "      <th>1</th>\n",
              "      <td>Sumit</td>\n",
              "      <td>140000</td>\n",
              "    </tr>\n",
              "    <tr>\n",
              "      <th>2</th>\n",
              "      <td>Aviral</td>\n",
              "      <td>90000</td>\n",
              "    </tr>\n",
              "  </tbody>\n",
              "</table>\n",
              "</div>"
            ],
            "text/plain": [
              "  Employee Name  Income\n",
              "0        Rajeev  200000\n",
              "1         Sumit  140000\n",
              "2        Aviral   90000"
            ]
          },
          "metadata": {
            "tags": []
          },
          "execution_count": 97
        }
      ]
    },
    {
      "cell_type": "code",
      "metadata": {
        "id": "vWscF-i4nKNs",
        "colab": {
          "base_uri": "https://localhost:8080/",
          "height": 172
        },
        "outputId": "696bee5f-f87f-49e4-e338-f1dcf1337096"
      },
      "source": [
        "# Store the data in a dictionary\n",
        "series_dict = {'First Series' : pd.Series([10, 20, 30, 40]),\n",
        "              'Second Series' : pd.Series([10, 20, 30, 40])}\n",
        "\n",
        "# Create the Dataframe using the dictionary\n",
        "df = pd.DataFrame(series_dict)\n",
        "\n",
        "# Print the dataframe\n",
        "df"
      ],
      "execution_count": null,
      "outputs": [
        {
          "output_type": "execute_result",
          "data": {
            "text/html": [
              "<div>\n",
              "<style scoped>\n",
              "    .dataframe tbody tr th:only-of-type {\n",
              "        vertical-align: middle;\n",
              "    }\n",
              "\n",
              "    .dataframe tbody tr th {\n",
              "        vertical-align: top;\n",
              "    }\n",
              "\n",
              "    .dataframe thead th {\n",
              "        text-align: right;\n",
              "    }\n",
              "</style>\n",
              "<table border=\"1\" class=\"dataframe\">\n",
              "  <thead>\n",
              "    <tr style=\"text-align: right;\">\n",
              "      <th></th>\n",
              "      <th>First Series</th>\n",
              "      <th>Second Series</th>\n",
              "    </tr>\n",
              "  </thead>\n",
              "  <tbody>\n",
              "    <tr>\n",
              "      <th>0</th>\n",
              "      <td>10</td>\n",
              "      <td>10</td>\n",
              "    </tr>\n",
              "    <tr>\n",
              "      <th>1</th>\n",
              "      <td>20</td>\n",
              "      <td>20</td>\n",
              "    </tr>\n",
              "    <tr>\n",
              "      <th>2</th>\n",
              "      <td>30</td>\n",
              "      <td>30</td>\n",
              "    </tr>\n",
              "    <tr>\n",
              "      <th>3</th>\n",
              "      <td>40</td>\n",
              "      <td>40</td>\n",
              "    </tr>\n",
              "  </tbody>\n",
              "</table>\n",
              "</div>"
            ],
            "text/plain": [
              "   First Series  Second Series\n",
              "0            10             10\n",
              "1            20             20\n",
              "2            30             30\n",
              "3            40             40"
            ]
          },
          "metadata": {
            "tags": []
          },
          "execution_count": 98
        }
      ]
    },
    {
      "cell_type": "markdown",
      "metadata": {
        "id": "W-0plf71UaQU"
      },
      "source": [
        "## Using a list of dictionaries"
      ]
    },
    {
      "cell_type": "code",
      "metadata": {
        "id": "2XZA2FgLnKNx",
        "colab": {
          "base_uri": "https://localhost:8080/",
          "height": 110
        },
        "outputId": "88c73a9c-0e7f-474a-a105-25b9d50767aa"
      },
      "source": [
        "# Initialise the list of dictionaries\n",
        "list_of_dicts = [{'a': 1, 'b': 2, 'c':3}, {'a':10, 'b': 20, 'c': 30}]\n",
        "\n",
        "# Create the DataFrame\n",
        "df = pd.DataFrame(list_of_dicts)\n",
        "\n",
        "# Print the dataframe\n",
        "df"
      ],
      "execution_count": null,
      "outputs": [
        {
          "output_type": "execute_result",
          "data": {
            "text/html": [
              "<div>\n",
              "<style scoped>\n",
              "    .dataframe tbody tr th:only-of-type {\n",
              "        vertical-align: middle;\n",
              "    }\n",
              "\n",
              "    .dataframe tbody tr th {\n",
              "        vertical-align: top;\n",
              "    }\n",
              "\n",
              "    .dataframe thead th {\n",
              "        text-align: right;\n",
              "    }\n",
              "</style>\n",
              "<table border=\"1\" class=\"dataframe\">\n",
              "  <thead>\n",
              "    <tr style=\"text-align: right;\">\n",
              "      <th></th>\n",
              "      <th>a</th>\n",
              "      <th>b</th>\n",
              "      <th>c</th>\n",
              "    </tr>\n",
              "  </thead>\n",
              "  <tbody>\n",
              "    <tr>\n",
              "      <th>0</th>\n",
              "      <td>1</td>\n",
              "      <td>2</td>\n",
              "      <td>3</td>\n",
              "    </tr>\n",
              "    <tr>\n",
              "      <th>1</th>\n",
              "      <td>10</td>\n",
              "      <td>20</td>\n",
              "      <td>30</td>\n",
              "    </tr>\n",
              "  </tbody>\n",
              "</table>\n",
              "</div>"
            ],
            "text/plain": [
              "    a   b   c\n",
              "0   1   2   3\n",
              "1  10  20  30"
            ]
          },
          "metadata": {
            "tags": []
          },
          "execution_count": 99
        }
      ]
    },
    {
      "cell_type": "code",
      "metadata": {
        "id": "Jn1xASv9Uo31",
        "colab": {
          "base_uri": "https://localhost:8080/",
          "height": 110
        },
        "outputId": "a8914754-046a-4bf5-bb47-d3c5a55ded89"
      },
      "source": [
        "# What happens if the number of keys are different in the two dictionaries\n",
        "list_of_dicts = [{'a': 2, 'c':3}, {'a': 10, 'b': 20, 'c': 30}]\n",
        "df = pd.DataFrame(list_of_dicts, index =['first', 'second'])\n",
        "df"
      ],
      "execution_count": null,
      "outputs": [
        {
          "output_type": "execute_result",
          "data": {
            "text/html": [
              "<div>\n",
              "<style scoped>\n",
              "    .dataframe tbody tr th:only-of-type {\n",
              "        vertical-align: middle;\n",
              "    }\n",
              "\n",
              "    .dataframe tbody tr th {\n",
              "        vertical-align: top;\n",
              "    }\n",
              "\n",
              "    .dataframe thead th {\n",
              "        text-align: right;\n",
              "    }\n",
              "</style>\n",
              "<table border=\"1\" class=\"dataframe\">\n",
              "  <thead>\n",
              "    <tr style=\"text-align: right;\">\n",
              "      <th></th>\n",
              "      <th>a</th>\n",
              "      <th>c</th>\n",
              "      <th>b</th>\n",
              "    </tr>\n",
              "  </thead>\n",
              "  <tbody>\n",
              "    <tr>\n",
              "      <th>first</th>\n",
              "      <td>2</td>\n",
              "      <td>3</td>\n",
              "      <td>NaN</td>\n",
              "    </tr>\n",
              "    <tr>\n",
              "      <th>second</th>\n",
              "      <td>10</td>\n",
              "      <td>30</td>\n",
              "      <td>20.0</td>\n",
              "    </tr>\n",
              "  </tbody>\n",
              "</table>\n",
              "</div>"
            ],
            "text/plain": [
              "         a   c     b\n",
              "first    2   3   NaN\n",
              "second  10  30  20.0"
            ]
          },
          "metadata": {
            "tags": []
          },
          "execution_count": 100
        }
      ]
    },
    {
      "cell_type": "markdown",
      "metadata": {
        "id": "gb-LmR2oVX8_"
      },
      "source": [
        "### There are other ways too!"
      ]
    },
    {
      "cell_type": "code",
      "metadata": {
        "id": "avueMTAfnKNz",
        "colab": {
          "base_uri": "https://localhost:8080/",
          "height": 172
        },
        "outputId": "52a5b7f2-5738-43b9-d679-81dc8cfdd220"
      },
      "source": [
        "# List of names\n",
        "actor_names = ['Ryan Reynolds', 'Benedict Cumberbatch', 'Robert Downey Jr.', 'Chris Evans']\n",
        "\n",
        "# List of their ages\n",
        "actor_ages = [48,62,54,np.nan ]\n",
        "\n",
        "# Get the list of tuples by zipping the two lists together\n",
        "list_of_tuples = list(zip(actor_names, actor_ages))\n",
        "\n",
        "# Converting the list of tuples into pandas Dataframe\n",
        "actor_df = pd.DataFrame(list_of_tuples, columns = ['Name', 'Age'])\n",
        "\n",
        "# Print the dataframe\n",
        "actor_df"
      ],
      "execution_count": null,
      "outputs": [
        {
          "output_type": "execute_result",
          "data": {
            "text/html": [
              "<div>\n",
              "<style scoped>\n",
              "    .dataframe tbody tr th:only-of-type {\n",
              "        vertical-align: middle;\n",
              "    }\n",
              "\n",
              "    .dataframe tbody tr th {\n",
              "        vertical-align: top;\n",
              "    }\n",
              "\n",
              "    .dataframe thead th {\n",
              "        text-align: right;\n",
              "    }\n",
              "</style>\n",
              "<table border=\"1\" class=\"dataframe\">\n",
              "  <thead>\n",
              "    <tr style=\"text-align: right;\">\n",
              "      <th></th>\n",
              "      <th>Name</th>\n",
              "      <th>Age</th>\n",
              "    </tr>\n",
              "  </thead>\n",
              "  <tbody>\n",
              "    <tr>\n",
              "      <th>0</th>\n",
              "      <td>Ryan Reynolds</td>\n",
              "      <td>48.0</td>\n",
              "    </tr>\n",
              "    <tr>\n",
              "      <th>1</th>\n",
              "      <td>Benedict Cumberbatch</td>\n",
              "      <td>62.0</td>\n",
              "    </tr>\n",
              "    <tr>\n",
              "      <th>2</th>\n",
              "      <td>Robert Downey Jr.</td>\n",
              "      <td>54.0</td>\n",
              "    </tr>\n",
              "    <tr>\n",
              "      <th>3</th>\n",
              "      <td>Chris Evans</td>\n",
              "      <td>NaN</td>\n",
              "    </tr>\n",
              "  </tbody>\n",
              "</table>\n",
              "</div>"
            ],
            "text/plain": [
              "                   Name   Age\n",
              "0         Ryan Reynolds  48.0\n",
              "1  Benedict Cumberbatch  62.0\n",
              "2     Robert Downey Jr.  54.0\n",
              "3           Chris Evans   NaN"
            ]
          },
          "metadata": {
            "tags": []
          },
          "execution_count": 104
        }
      ]
    },
    {
      "cell_type": "markdown",
      "metadata": {
        "id": "byfIXnJwWQ31"
      },
      "source": [
        "## <b>So we have seen a variety of ways in which we can create simple dataframes. Now let us explore few methods and attributes associated with the pandas dataframes in Python</b>"
      ]
    },
    {
      "cell_type": "markdown",
      "metadata": {
        "id": "VpWoJh0JWg46"
      },
      "source": [
        "### We can print the indices of our dataframe using the <code>index</code> attribute"
      ]
    },
    {
      "cell_type": "code",
      "metadata": {
        "id": "gfaqg2-RnKN1",
        "colab": {
          "base_uri": "https://localhost:8080/",
          "height": 34
        },
        "outputId": "99ae2708-6e93-4608-d552-35710ca442fb"
      },
      "source": [
        "list(actor_df.index)"
      ],
      "execution_count": null,
      "outputs": [
        {
          "output_type": "execute_result",
          "data": {
            "text/plain": [
              "[0, 1, 2, 3]"
            ]
          },
          "metadata": {
            "tags": []
          },
          "execution_count": 106
        }
      ]
    },
    {
      "cell_type": "markdown",
      "metadata": {
        "id": "9ZZln2kIW8xK"
      },
      "source": [
        "### Let us create a dataframe with 100 rows and 5 columns"
      ]
    },
    {
      "cell_type": "code",
      "metadata": {
        "id": "-ekKhATSnKN4",
        "colab": {
          "base_uri": "https://localhost:8080/",
          "height": 417
        },
        "outputId": "d1a457da-e0d6-4e6d-8e54-6f2f97605741"
      },
      "source": [
        "# Create an array of shape (100,5)\n",
        "our_array = np.random.randn(100, 5)\n",
        "df = pd.DataFrame(our_array, columns=['A','B','C','D','E'])\n",
        "df"
      ],
      "execution_count": null,
      "outputs": [
        {
          "output_type": "execute_result",
          "data": {
            "text/html": [
              "<div>\n",
              "<style scoped>\n",
              "    .dataframe tbody tr th:only-of-type {\n",
              "        vertical-align: middle;\n",
              "    }\n",
              "\n",
              "    .dataframe tbody tr th {\n",
              "        vertical-align: top;\n",
              "    }\n",
              "\n",
              "    .dataframe thead th {\n",
              "        text-align: right;\n",
              "    }\n",
              "</style>\n",
              "<table border=\"1\" class=\"dataframe\">\n",
              "  <thead>\n",
              "    <tr style=\"text-align: right;\">\n",
              "      <th></th>\n",
              "      <th>A</th>\n",
              "      <th>B</th>\n",
              "      <th>C</th>\n",
              "      <th>D</th>\n",
              "      <th>E</th>\n",
              "    </tr>\n",
              "  </thead>\n",
              "  <tbody>\n",
              "    <tr>\n",
              "      <th>0</th>\n",
              "      <td>-0.614131</td>\n",
              "      <td>2.729958</td>\n",
              "      <td>-1.694864</td>\n",
              "      <td>0.785436</td>\n",
              "      <td>1.416487</td>\n",
              "    </tr>\n",
              "    <tr>\n",
              "      <th>1</th>\n",
              "      <td>0.489337</td>\n",
              "      <td>1.577723</td>\n",
              "      <td>0.337876</td>\n",
              "      <td>-1.629359</td>\n",
              "      <td>-0.220934</td>\n",
              "    </tr>\n",
              "    <tr>\n",
              "      <th>2</th>\n",
              "      <td>0.757333</td>\n",
              "      <td>0.027011</td>\n",
              "      <td>1.659545</td>\n",
              "      <td>1.616906</td>\n",
              "      <td>-0.902366</td>\n",
              "    </tr>\n",
              "    <tr>\n",
              "      <th>3</th>\n",
              "      <td>0.999482</td>\n",
              "      <td>-0.516473</td>\n",
              "      <td>1.548135</td>\n",
              "      <td>-0.452610</td>\n",
              "      <td>-0.077457</td>\n",
              "    </tr>\n",
              "    <tr>\n",
              "      <th>4</th>\n",
              "      <td>0.449580</td>\n",
              "      <td>-0.871009</td>\n",
              "      <td>-1.137138</td>\n",
              "      <td>0.693274</td>\n",
              "      <td>1.053982</td>\n",
              "    </tr>\n",
              "    <tr>\n",
              "      <th>...</th>\n",
              "      <td>...</td>\n",
              "      <td>...</td>\n",
              "      <td>...</td>\n",
              "      <td>...</td>\n",
              "      <td>...</td>\n",
              "    </tr>\n",
              "    <tr>\n",
              "      <th>95</th>\n",
              "      <td>-2.485463</td>\n",
              "      <td>-0.769122</td>\n",
              "      <td>-0.766367</td>\n",
              "      <td>0.647198</td>\n",
              "      <td>-0.257176</td>\n",
              "    </tr>\n",
              "    <tr>\n",
              "      <th>96</th>\n",
              "      <td>0.383999</td>\n",
              "      <td>1.310369</td>\n",
              "      <td>0.226318</td>\n",
              "      <td>0.118659</td>\n",
              "      <td>-1.362131</td>\n",
              "    </tr>\n",
              "    <tr>\n",
              "      <th>97</th>\n",
              "      <td>-1.309032</td>\n",
              "      <td>0.522516</td>\n",
              "      <td>-0.522278</td>\n",
              "      <td>0.120559</td>\n",
              "      <td>0.835011</td>\n",
              "    </tr>\n",
              "    <tr>\n",
              "      <th>98</th>\n",
              "      <td>-1.209385</td>\n",
              "      <td>-0.303945</td>\n",
              "      <td>-0.322028</td>\n",
              "      <td>0.551629</td>\n",
              "      <td>0.601272</td>\n",
              "    </tr>\n",
              "    <tr>\n",
              "      <th>99</th>\n",
              "      <td>-0.804666</td>\n",
              "      <td>-2.175289</td>\n",
              "      <td>-0.261216</td>\n",
              "      <td>1.692871</td>\n",
              "      <td>2.198771</td>\n",
              "    </tr>\n",
              "  </tbody>\n",
              "</table>\n",
              "<p>100 rows × 5 columns</p>\n",
              "</div>"
            ],
            "text/plain": [
              "           A         B         C         D         E\n",
              "0  -0.614131  2.729958 -1.694864  0.785436  1.416487\n",
              "1   0.489337  1.577723  0.337876 -1.629359 -0.220934\n",
              "2   0.757333  0.027011  1.659545  1.616906 -0.902366\n",
              "3   0.999482 -0.516473  1.548135 -0.452610 -0.077457\n",
              "4   0.449580 -0.871009 -1.137138  0.693274  1.053982\n",
              "..       ...       ...       ...       ...       ...\n",
              "95 -2.485463 -0.769122 -0.766367  0.647198 -0.257176\n",
              "96  0.383999  1.310369  0.226318  0.118659 -1.362131\n",
              "97 -1.309032  0.522516 -0.522278  0.120559  0.835011\n",
              "98 -1.209385 -0.303945 -0.322028  0.551629  0.601272\n",
              "99 -0.804666 -2.175289 -0.261216  1.692871  2.198771\n",
              "\n",
              "[100 rows x 5 columns]"
            ]
          },
          "metadata": {
            "tags": []
          },
          "execution_count": 108
        }
      ]
    },
    {
      "cell_type": "markdown",
      "metadata": {
        "id": "YaNcjzi3XdUo"
      },
      "source": [
        "* ## <b><code>head()</code></b>\n",
        "\n",
        "#### Prints the first $n$ rows of the dataframe. By default it prints the first 5 rows"
      ]
    },
    {
      "cell_type": "code",
      "metadata": {
        "scrolled": true,
        "id": "0kC_kENMnKN7",
        "colab": {
          "base_uri": "https://localhost:8080/",
          "height": 203
        },
        "outputId": "576c220d-1feb-4860-a65d-f4689b774654"
      },
      "source": [
        "# We can use the head() method\n",
        "df.head()"
      ],
      "execution_count": null,
      "outputs": [
        {
          "output_type": "execute_result",
          "data": {
            "text/html": [
              "<div>\n",
              "<style scoped>\n",
              "    .dataframe tbody tr th:only-of-type {\n",
              "        vertical-align: middle;\n",
              "    }\n",
              "\n",
              "    .dataframe tbody tr th {\n",
              "        vertical-align: top;\n",
              "    }\n",
              "\n",
              "    .dataframe thead th {\n",
              "        text-align: right;\n",
              "    }\n",
              "</style>\n",
              "<table border=\"1\" class=\"dataframe\">\n",
              "  <thead>\n",
              "    <tr style=\"text-align: right;\">\n",
              "      <th></th>\n",
              "      <th>A</th>\n",
              "      <th>B</th>\n",
              "      <th>C</th>\n",
              "      <th>D</th>\n",
              "      <th>E</th>\n",
              "    </tr>\n",
              "  </thead>\n",
              "  <tbody>\n",
              "    <tr>\n",
              "      <th>0</th>\n",
              "      <td>-0.614131</td>\n",
              "      <td>2.729958</td>\n",
              "      <td>-1.694864</td>\n",
              "      <td>0.785436</td>\n",
              "      <td>1.416487</td>\n",
              "    </tr>\n",
              "    <tr>\n",
              "      <th>1</th>\n",
              "      <td>0.489337</td>\n",
              "      <td>1.577723</td>\n",
              "      <td>0.337876</td>\n",
              "      <td>-1.629359</td>\n",
              "      <td>-0.220934</td>\n",
              "    </tr>\n",
              "    <tr>\n",
              "      <th>2</th>\n",
              "      <td>0.757333</td>\n",
              "      <td>0.027011</td>\n",
              "      <td>1.659545</td>\n",
              "      <td>1.616906</td>\n",
              "      <td>-0.902366</td>\n",
              "    </tr>\n",
              "    <tr>\n",
              "      <th>3</th>\n",
              "      <td>0.999482</td>\n",
              "      <td>-0.516473</td>\n",
              "      <td>1.548135</td>\n",
              "      <td>-0.452610</td>\n",
              "      <td>-0.077457</td>\n",
              "    </tr>\n",
              "    <tr>\n",
              "      <th>4</th>\n",
              "      <td>0.449580</td>\n",
              "      <td>-0.871009</td>\n",
              "      <td>-1.137138</td>\n",
              "      <td>0.693274</td>\n",
              "      <td>1.053982</td>\n",
              "    </tr>\n",
              "  </tbody>\n",
              "</table>\n",
              "</div>"
            ],
            "text/plain": [
              "          A         B         C         D         E\n",
              "0 -0.614131  2.729958 -1.694864  0.785436  1.416487\n",
              "1  0.489337  1.577723  0.337876 -1.629359 -0.220934\n",
              "2  0.757333  0.027011  1.659545  1.616906 -0.902366\n",
              "3  0.999482 -0.516473  1.548135 -0.452610 -0.077457\n",
              "4  0.449580 -0.871009 -1.137138  0.693274  1.053982"
            ]
          },
          "metadata": {
            "tags": []
          },
          "execution_count": 109
        }
      ]
    },
    {
      "cell_type": "code",
      "metadata": {
        "id": "biQfSCAEY1a8",
        "colab": {
          "base_uri": "https://localhost:8080/",
          "height": 358
        },
        "outputId": "adb1f599-2c4e-4e6d-a3c7-b9fbad078d43"
      },
      "source": [
        "# In fact we can also print the first 10 rows\n",
        "df.head(10)"
      ],
      "execution_count": null,
      "outputs": [
        {
          "output_type": "execute_result",
          "data": {
            "text/html": [
              "<div>\n",
              "<style scoped>\n",
              "    .dataframe tbody tr th:only-of-type {\n",
              "        vertical-align: middle;\n",
              "    }\n",
              "\n",
              "    .dataframe tbody tr th {\n",
              "        vertical-align: top;\n",
              "    }\n",
              "\n",
              "    .dataframe thead th {\n",
              "        text-align: right;\n",
              "    }\n",
              "</style>\n",
              "<table border=\"1\" class=\"dataframe\">\n",
              "  <thead>\n",
              "    <tr style=\"text-align: right;\">\n",
              "      <th></th>\n",
              "      <th>A</th>\n",
              "      <th>B</th>\n",
              "      <th>C</th>\n",
              "      <th>D</th>\n",
              "      <th>E</th>\n",
              "    </tr>\n",
              "  </thead>\n",
              "  <tbody>\n",
              "    <tr>\n",
              "      <th>0</th>\n",
              "      <td>-0.614131</td>\n",
              "      <td>2.729958</td>\n",
              "      <td>-1.694864</td>\n",
              "      <td>0.785436</td>\n",
              "      <td>1.416487</td>\n",
              "    </tr>\n",
              "    <tr>\n",
              "      <th>1</th>\n",
              "      <td>0.489337</td>\n",
              "      <td>1.577723</td>\n",
              "      <td>0.337876</td>\n",
              "      <td>-1.629359</td>\n",
              "      <td>-0.220934</td>\n",
              "    </tr>\n",
              "    <tr>\n",
              "      <th>2</th>\n",
              "      <td>0.757333</td>\n",
              "      <td>0.027011</td>\n",
              "      <td>1.659545</td>\n",
              "      <td>1.616906</td>\n",
              "      <td>-0.902366</td>\n",
              "    </tr>\n",
              "    <tr>\n",
              "      <th>3</th>\n",
              "      <td>0.999482</td>\n",
              "      <td>-0.516473</td>\n",
              "      <td>1.548135</td>\n",
              "      <td>-0.452610</td>\n",
              "      <td>-0.077457</td>\n",
              "    </tr>\n",
              "    <tr>\n",
              "      <th>4</th>\n",
              "      <td>0.449580</td>\n",
              "      <td>-0.871009</td>\n",
              "      <td>-1.137138</td>\n",
              "      <td>0.693274</td>\n",
              "      <td>1.053982</td>\n",
              "    </tr>\n",
              "    <tr>\n",
              "      <th>5</th>\n",
              "      <td>-1.976813</td>\n",
              "      <td>0.632078</td>\n",
              "      <td>0.204250</td>\n",
              "      <td>-0.877067</td>\n",
              "      <td>0.127399</td>\n",
              "    </tr>\n",
              "    <tr>\n",
              "      <th>6</th>\n",
              "      <td>-0.162293</td>\n",
              "      <td>0.204984</td>\n",
              "      <td>-0.094604</td>\n",
              "      <td>-1.105601</td>\n",
              "      <td>0.397135</td>\n",
              "    </tr>\n",
              "    <tr>\n",
              "      <th>7</th>\n",
              "      <td>-1.313731</td>\n",
              "      <td>0.131387</td>\n",
              "      <td>-1.881300</td>\n",
              "      <td>0.434872</td>\n",
              "      <td>0.781340</td>\n",
              "    </tr>\n",
              "    <tr>\n",
              "      <th>8</th>\n",
              "      <td>-0.283572</td>\n",
              "      <td>0.160845</td>\n",
              "      <td>0.902905</td>\n",
              "      <td>-2.208873</td>\n",
              "      <td>-0.953166</td>\n",
              "    </tr>\n",
              "    <tr>\n",
              "      <th>9</th>\n",
              "      <td>-0.526254</td>\n",
              "      <td>1.766793</td>\n",
              "      <td>0.973125</td>\n",
              "      <td>0.767181</td>\n",
              "      <td>0.741103</td>\n",
              "    </tr>\n",
              "  </tbody>\n",
              "</table>\n",
              "</div>"
            ],
            "text/plain": [
              "          A         B         C         D         E\n",
              "0 -0.614131  2.729958 -1.694864  0.785436  1.416487\n",
              "1  0.489337  1.577723  0.337876 -1.629359 -0.220934\n",
              "2  0.757333  0.027011  1.659545  1.616906 -0.902366\n",
              "3  0.999482 -0.516473  1.548135 -0.452610 -0.077457\n",
              "4  0.449580 -0.871009 -1.137138  0.693274  1.053982\n",
              "5 -1.976813  0.632078  0.204250 -0.877067  0.127399\n",
              "6 -0.162293  0.204984 -0.094604 -1.105601  0.397135\n",
              "7 -1.313731  0.131387 -1.881300  0.434872  0.781340\n",
              "8 -0.283572  0.160845  0.902905 -2.208873 -0.953166\n",
              "9 -0.526254  1.766793  0.973125  0.767181  0.741103"
            ]
          },
          "metadata": {
            "tags": []
          },
          "execution_count": 110
        }
      ]
    },
    {
      "cell_type": "markdown",
      "metadata": {
        "id": "Sw5jkZ-QY8rE"
      },
      "source": [
        "* ## <b><code>tail()</code></b>\n",
        "\n",
        "#### Prints the last $n$ rows of the dataframe. By default it prints the last 5 rows"
      ]
    },
    {
      "cell_type": "code",
      "metadata": {
        "id": "L5J94H0DnKN-",
        "colab": {
          "base_uri": "https://localhost:8080/",
          "height": 203
        },
        "outputId": "7b571724-659f-480a-c39f-8063f17a5628"
      },
      "source": [
        "df.tail()"
      ],
      "execution_count": null,
      "outputs": [
        {
          "output_type": "execute_result",
          "data": {
            "text/html": [
              "<div>\n",
              "<style scoped>\n",
              "    .dataframe tbody tr th:only-of-type {\n",
              "        vertical-align: middle;\n",
              "    }\n",
              "\n",
              "    .dataframe tbody tr th {\n",
              "        vertical-align: top;\n",
              "    }\n",
              "\n",
              "    .dataframe thead th {\n",
              "        text-align: right;\n",
              "    }\n",
              "</style>\n",
              "<table border=\"1\" class=\"dataframe\">\n",
              "  <thead>\n",
              "    <tr style=\"text-align: right;\">\n",
              "      <th></th>\n",
              "      <th>A</th>\n",
              "      <th>B</th>\n",
              "      <th>C</th>\n",
              "      <th>D</th>\n",
              "      <th>E</th>\n",
              "    </tr>\n",
              "  </thead>\n",
              "  <tbody>\n",
              "    <tr>\n",
              "      <th>95</th>\n",
              "      <td>-2.485463</td>\n",
              "      <td>-0.769122</td>\n",
              "      <td>-0.766367</td>\n",
              "      <td>0.647198</td>\n",
              "      <td>-0.257176</td>\n",
              "    </tr>\n",
              "    <tr>\n",
              "      <th>96</th>\n",
              "      <td>0.383999</td>\n",
              "      <td>1.310369</td>\n",
              "      <td>0.226318</td>\n",
              "      <td>0.118659</td>\n",
              "      <td>-1.362131</td>\n",
              "    </tr>\n",
              "    <tr>\n",
              "      <th>97</th>\n",
              "      <td>-1.309032</td>\n",
              "      <td>0.522516</td>\n",
              "      <td>-0.522278</td>\n",
              "      <td>0.120559</td>\n",
              "      <td>0.835011</td>\n",
              "    </tr>\n",
              "    <tr>\n",
              "      <th>98</th>\n",
              "      <td>-1.209385</td>\n",
              "      <td>-0.303945</td>\n",
              "      <td>-0.322028</td>\n",
              "      <td>0.551629</td>\n",
              "      <td>0.601272</td>\n",
              "    </tr>\n",
              "    <tr>\n",
              "      <th>99</th>\n",
              "      <td>-0.804666</td>\n",
              "      <td>-2.175289</td>\n",
              "      <td>-0.261216</td>\n",
              "      <td>1.692871</td>\n",
              "      <td>2.198771</td>\n",
              "    </tr>\n",
              "  </tbody>\n",
              "</table>\n",
              "</div>"
            ],
            "text/plain": [
              "           A         B         C         D         E\n",
              "95 -2.485463 -0.769122 -0.766367  0.647198 -0.257176\n",
              "96  0.383999  1.310369  0.226318  0.118659 -1.362131\n",
              "97 -1.309032  0.522516 -0.522278  0.120559  0.835011\n",
              "98 -1.209385 -0.303945 -0.322028  0.551629  0.601272\n",
              "99 -0.804666 -2.175289 -0.261216  1.692871  2.198771"
            ]
          },
          "metadata": {
            "tags": []
          },
          "execution_count": 111
        }
      ]
    },
    {
      "cell_type": "code",
      "metadata": {
        "id": "hIkcz11WZHjw",
        "colab": {
          "base_uri": "https://localhost:8080/",
          "height": 358
        },
        "outputId": "b445f4b3-6102-4760-9ae8-d251c724750c"
      },
      "source": [
        "df.tail(10)"
      ],
      "execution_count": null,
      "outputs": [
        {
          "output_type": "execute_result",
          "data": {
            "text/html": [
              "<div>\n",
              "<style scoped>\n",
              "    .dataframe tbody tr th:only-of-type {\n",
              "        vertical-align: middle;\n",
              "    }\n",
              "\n",
              "    .dataframe tbody tr th {\n",
              "        vertical-align: top;\n",
              "    }\n",
              "\n",
              "    .dataframe thead th {\n",
              "        text-align: right;\n",
              "    }\n",
              "</style>\n",
              "<table border=\"1\" class=\"dataframe\">\n",
              "  <thead>\n",
              "    <tr style=\"text-align: right;\">\n",
              "      <th></th>\n",
              "      <th>A</th>\n",
              "      <th>B</th>\n",
              "      <th>C</th>\n",
              "      <th>D</th>\n",
              "      <th>E</th>\n",
              "    </tr>\n",
              "  </thead>\n",
              "  <tbody>\n",
              "    <tr>\n",
              "      <th>90</th>\n",
              "      <td>-0.056497</td>\n",
              "      <td>-0.134577</td>\n",
              "      <td>0.482033</td>\n",
              "      <td>0.470250</td>\n",
              "      <td>-0.793136</td>\n",
              "    </tr>\n",
              "    <tr>\n",
              "      <th>91</th>\n",
              "      <td>0.247822</td>\n",
              "      <td>-0.428120</td>\n",
              "      <td>0.603016</td>\n",
              "      <td>0.069624</td>\n",
              "      <td>-0.727263</td>\n",
              "    </tr>\n",
              "    <tr>\n",
              "      <th>92</th>\n",
              "      <td>1.287129</td>\n",
              "      <td>-0.455263</td>\n",
              "      <td>-1.305990</td>\n",
              "      <td>1.286018</td>\n",
              "      <td>-0.491057</td>\n",
              "    </tr>\n",
              "    <tr>\n",
              "      <th>93</th>\n",
              "      <td>0.499401</td>\n",
              "      <td>1.582670</td>\n",
              "      <td>-1.382644</td>\n",
              "      <td>-0.512273</td>\n",
              "      <td>-0.875136</td>\n",
              "    </tr>\n",
              "    <tr>\n",
              "      <th>94</th>\n",
              "      <td>-1.058532</td>\n",
              "      <td>0.771661</td>\n",
              "      <td>-1.022728</td>\n",
              "      <td>-0.557164</td>\n",
              "      <td>-0.392862</td>\n",
              "    </tr>\n",
              "    <tr>\n",
              "      <th>95</th>\n",
              "      <td>-2.485463</td>\n",
              "      <td>-0.769122</td>\n",
              "      <td>-0.766367</td>\n",
              "      <td>0.647198</td>\n",
              "      <td>-0.257176</td>\n",
              "    </tr>\n",
              "    <tr>\n",
              "      <th>96</th>\n",
              "      <td>0.383999</td>\n",
              "      <td>1.310369</td>\n",
              "      <td>0.226318</td>\n",
              "      <td>0.118659</td>\n",
              "      <td>-1.362131</td>\n",
              "    </tr>\n",
              "    <tr>\n",
              "      <th>97</th>\n",
              "      <td>-1.309032</td>\n",
              "      <td>0.522516</td>\n",
              "      <td>-0.522278</td>\n",
              "      <td>0.120559</td>\n",
              "      <td>0.835011</td>\n",
              "    </tr>\n",
              "    <tr>\n",
              "      <th>98</th>\n",
              "      <td>-1.209385</td>\n",
              "      <td>-0.303945</td>\n",
              "      <td>-0.322028</td>\n",
              "      <td>0.551629</td>\n",
              "      <td>0.601272</td>\n",
              "    </tr>\n",
              "    <tr>\n",
              "      <th>99</th>\n",
              "      <td>-0.804666</td>\n",
              "      <td>-2.175289</td>\n",
              "      <td>-0.261216</td>\n",
              "      <td>1.692871</td>\n",
              "      <td>2.198771</td>\n",
              "    </tr>\n",
              "  </tbody>\n",
              "</table>\n",
              "</div>"
            ],
            "text/plain": [
              "           A         B         C         D         E\n",
              "90 -0.056497 -0.134577  0.482033  0.470250 -0.793136\n",
              "91  0.247822 -0.428120  0.603016  0.069624 -0.727263\n",
              "92  1.287129 -0.455263 -1.305990  1.286018 -0.491057\n",
              "93  0.499401  1.582670 -1.382644 -0.512273 -0.875136\n",
              "94 -1.058532  0.771661 -1.022728 -0.557164 -0.392862\n",
              "95 -2.485463 -0.769122 -0.766367  0.647198 -0.257176\n",
              "96  0.383999  1.310369  0.226318  0.118659 -1.362131\n",
              "97 -1.309032  0.522516 -0.522278  0.120559  0.835011\n",
              "98 -1.209385 -0.303945 -0.322028  0.551629  0.601272\n",
              "99 -0.804666 -2.175289 -0.261216  1.692871  2.198771"
            ]
          },
          "metadata": {
            "tags": []
          },
          "execution_count": 112
        }
      ]
    },
    {
      "cell_type": "markdown",
      "metadata": {
        "id": "hA8EPGXwZKQY"
      },
      "source": [
        "* ## <b><code>columns</code></b>\n",
        "\n",
        "#### Prints the list of columns in a dataframe"
      ]
    },
    {
      "cell_type": "code",
      "metadata": {
        "id": "tcVFJC0gnKOB",
        "colab": {
          "base_uri": "https://localhost:8080/",
          "height": 34
        },
        "outputId": "d3e995b0-16e6-4536-becc-ec61eaa55a27"
      },
      "source": [
        "list(df.columns)"
      ],
      "execution_count": null,
      "outputs": [
        {
          "output_type": "execute_result",
          "data": {
            "text/plain": [
              "['A', 'B', 'C', 'D', 'E']"
            ]
          },
          "metadata": {
            "tags": []
          },
          "execution_count": 113
        }
      ]
    },
    {
      "cell_type": "code",
      "metadata": {
        "id": "uYUushuUZn3u",
        "colab": {
          "base_uri": "https://localhost:8080/",
          "height": 34
        },
        "outputId": "2a67ef3a-4ad2-484b-e29f-eb5c0ff0d5bd"
      },
      "source": [
        "list(actor_df.columns)"
      ],
      "execution_count": null,
      "outputs": [
        {
          "output_type": "execute_result",
          "data": {
            "text/plain": [
              "['Name', 'Age']"
            ]
          },
          "metadata": {
            "tags": []
          },
          "execution_count": 114
        }
      ]
    },
    {
      "cell_type": "markdown",
      "metadata": {
        "id": "jtHiKY2kZsRZ"
      },
      "source": [
        "* ## <b><code>info()</code></b>\n",
        "\n",
        "#### Prints the basic information about our dataframe"
      ]
    },
    {
      "cell_type": "code",
      "metadata": {
        "id": "ZKcloY2faBR-",
        "colab": {
          "base_uri": "https://localhost:8080/",
          "height": 172
        },
        "outputId": "4f8422c0-82d4-42ab-feca-5af18e72687a"
      },
      "source": [
        "actor_df"
      ],
      "execution_count": null,
      "outputs": [
        {
          "output_type": "execute_result",
          "data": {
            "text/html": [
              "<div>\n",
              "<style scoped>\n",
              "    .dataframe tbody tr th:only-of-type {\n",
              "        vertical-align: middle;\n",
              "    }\n",
              "\n",
              "    .dataframe tbody tr th {\n",
              "        vertical-align: top;\n",
              "    }\n",
              "\n",
              "    .dataframe thead th {\n",
              "        text-align: right;\n",
              "    }\n",
              "</style>\n",
              "<table border=\"1\" class=\"dataframe\">\n",
              "  <thead>\n",
              "    <tr style=\"text-align: right;\">\n",
              "      <th></th>\n",
              "      <th>Name</th>\n",
              "      <th>Age</th>\n",
              "    </tr>\n",
              "  </thead>\n",
              "  <tbody>\n",
              "    <tr>\n",
              "      <th>0</th>\n",
              "      <td>Ryan Reynolds</td>\n",
              "      <td>48.0</td>\n",
              "    </tr>\n",
              "    <tr>\n",
              "      <th>1</th>\n",
              "      <td>Benedict Cumberbatch</td>\n",
              "      <td>62.0</td>\n",
              "    </tr>\n",
              "    <tr>\n",
              "      <th>2</th>\n",
              "      <td>Robert Downey Jr.</td>\n",
              "      <td>54.0</td>\n",
              "    </tr>\n",
              "    <tr>\n",
              "      <th>3</th>\n",
              "      <td>Chris Evans</td>\n",
              "      <td>NaN</td>\n",
              "    </tr>\n",
              "  </tbody>\n",
              "</table>\n",
              "</div>"
            ],
            "text/plain": [
              "                   Name   Age\n",
              "0         Ryan Reynolds  48.0\n",
              "1  Benedict Cumberbatch  62.0\n",
              "2     Robert Downey Jr.  54.0\n",
              "3           Chris Evans   NaN"
            ]
          },
          "metadata": {
            "tags": []
          },
          "execution_count": 115
        }
      ]
    },
    {
      "cell_type": "code",
      "metadata": {
        "id": "7RVaKcVTnKOK",
        "colab": {
          "base_uri": "https://localhost:8080/",
          "height": 175
        },
        "outputId": "ca227409-88f1-4edc-88ff-4828e1801206"
      },
      "source": [
        "actor_df.info()"
      ],
      "execution_count": null,
      "outputs": [
        {
          "output_type": "stream",
          "text": [
            "<class 'pandas.core.frame.DataFrame'>\n",
            "RangeIndex: 4 entries, 0 to 3\n",
            "Data columns (total 2 columns):\n",
            " #   Column  Non-Null Count  Dtype  \n",
            "---  ------  --------------  -----  \n",
            " 0   Name    4 non-null      object \n",
            " 1   Age     3 non-null      float64\n",
            "dtypes: float64(1), object(1)\n",
            "memory usage: 192.0+ bytes\n"
          ],
          "name": "stdout"
        }
      ]
    },
    {
      "cell_type": "markdown",
      "metadata": {
        "id": "6ZhZcuIzaE0T"
      },
      "source": [
        "* ## <b><code>rename()</code></b>\n",
        "\n",
        "#### Rename the columns of the dataframe"
      ]
    },
    {
      "cell_type": "code",
      "metadata": {
        "id": "Xt9-z8RXnKON",
        "colab": {
          "base_uri": "https://localhost:8080/",
          "height": 172
        },
        "outputId": "e848da8d-247d-4d77-9d53-a441bd3d188f"
      },
      "source": [
        "actor_df"
      ],
      "execution_count": null,
      "outputs": [
        {
          "output_type": "execute_result",
          "data": {
            "text/html": [
              "<div>\n",
              "<style scoped>\n",
              "    .dataframe tbody tr th:only-of-type {\n",
              "        vertical-align: middle;\n",
              "    }\n",
              "\n",
              "    .dataframe tbody tr th {\n",
              "        vertical-align: top;\n",
              "    }\n",
              "\n",
              "    .dataframe thead th {\n",
              "        text-align: right;\n",
              "    }\n",
              "</style>\n",
              "<table border=\"1\" class=\"dataframe\">\n",
              "  <thead>\n",
              "    <tr style=\"text-align: right;\">\n",
              "      <th></th>\n",
              "      <th>Name</th>\n",
              "      <th>Age</th>\n",
              "    </tr>\n",
              "  </thead>\n",
              "  <tbody>\n",
              "    <tr>\n",
              "      <th>0</th>\n",
              "      <td>Ryan Reynolds</td>\n",
              "      <td>48.0</td>\n",
              "    </tr>\n",
              "    <tr>\n",
              "      <th>1</th>\n",
              "      <td>Tom Hanks</td>\n",
              "      <td>62.0</td>\n",
              "    </tr>\n",
              "    <tr>\n",
              "      <th>2</th>\n",
              "      <td>Robert Downey Jr.</td>\n",
              "      <td>54.0</td>\n",
              "    </tr>\n",
              "    <tr>\n",
              "      <th>3</th>\n",
              "      <td>Chris Evans</td>\n",
              "      <td>NaN</td>\n",
              "    </tr>\n",
              "  </tbody>\n",
              "</table>\n",
              "</div>"
            ],
            "text/plain": [
              "                Name   Age\n",
              "0      Ryan Reynolds  48.0\n",
              "1          Tom Hanks  62.0\n",
              "2  Robert Downey Jr.  54.0\n",
              "3        Chris Evans   NaN"
            ]
          },
          "metadata": {
            "tags": []
          },
          "execution_count": 39
        }
      ]
    },
    {
      "cell_type": "code",
      "metadata": {
        "id": "YT7LKCP6nKOP"
      },
      "source": [
        "actor_df.rename(columns = {'Name':'Actor Name','Age' :'Actor Age'}, inplace=True)"
      ],
      "execution_count": null,
      "outputs": []
    },
    {
      "cell_type": "code",
      "metadata": {
        "id": "XmMQmvdh901S"
      },
      "source": [],
      "execution_count": null,
      "outputs": []
    },
    {
      "cell_type": "code",
      "metadata": {
        "id": "EOV1Mq_ZnKOR",
        "colab": {
          "base_uri": "https://localhost:8080/",
          "height": 172
        },
        "outputId": "0c2c9cb3-65dc-4923-b76d-4df377423143"
      },
      "source": [
        "actor_df"
      ],
      "execution_count": null,
      "outputs": [
        {
          "output_type": "execute_result",
          "data": {
            "text/html": [
              "<div>\n",
              "<style scoped>\n",
              "    .dataframe tbody tr th:only-of-type {\n",
              "        vertical-align: middle;\n",
              "    }\n",
              "\n",
              "    .dataframe tbody tr th {\n",
              "        vertical-align: top;\n",
              "    }\n",
              "\n",
              "    .dataframe thead th {\n",
              "        text-align: right;\n",
              "    }\n",
              "</style>\n",
              "<table border=\"1\" class=\"dataframe\">\n",
              "  <thead>\n",
              "    <tr style=\"text-align: right;\">\n",
              "      <th></th>\n",
              "      <th>Actor Name</th>\n",
              "      <th>Actor Age</th>\n",
              "    </tr>\n",
              "  </thead>\n",
              "  <tbody>\n",
              "    <tr>\n",
              "      <th>0</th>\n",
              "      <td>Ryan Reynolds</td>\n",
              "      <td>48.0</td>\n",
              "    </tr>\n",
              "    <tr>\n",
              "      <th>1</th>\n",
              "      <td>Benedict Cumberbatch</td>\n",
              "      <td>62.0</td>\n",
              "    </tr>\n",
              "    <tr>\n",
              "      <th>2</th>\n",
              "      <td>Robert Downey Jr.</td>\n",
              "      <td>54.0</td>\n",
              "    </tr>\n",
              "    <tr>\n",
              "      <th>3</th>\n",
              "      <td>Chris Evans</td>\n",
              "      <td>NaN</td>\n",
              "    </tr>\n",
              "  </tbody>\n",
              "</table>\n",
              "</div>"
            ],
            "text/plain": [
              "             Actor Name  Actor Age\n",
              "0         Ryan Reynolds       48.0\n",
              "1  Benedict Cumberbatch       62.0\n",
              "2     Robert Downey Jr.       54.0\n",
              "3           Chris Evans        NaN"
            ]
          },
          "metadata": {
            "tags": []
          },
          "execution_count": 118
        }
      ]
    },
    {
      "cell_type": "code",
      "metadata": {
        "id": "0lAhnDfGbDKZ",
        "colab": {
          "base_uri": "https://localhost:8080/",
          "height": 141
        },
        "outputId": "8873ca3c-ed9c-4ff2-e0a7-345a96c5b0f9"
      },
      "source": [
        "employee_df"
      ],
      "execution_count": null,
      "outputs": [
        {
          "output_type": "execute_result",
          "data": {
            "text/html": [
              "<div>\n",
              "<style scoped>\n",
              "    .dataframe tbody tr th:only-of-type {\n",
              "        vertical-align: middle;\n",
              "    }\n",
              "\n",
              "    .dataframe tbody tr th {\n",
              "        vertical-align: top;\n",
              "    }\n",
              "\n",
              "    .dataframe thead th {\n",
              "        text-align: right;\n",
              "    }\n",
              "</style>\n",
              "<table border=\"1\" class=\"dataframe\">\n",
              "  <thead>\n",
              "    <tr style=\"text-align: right;\">\n",
              "      <th></th>\n",
              "      <th>Employee Name</th>\n",
              "      <th>Income</th>\n",
              "    </tr>\n",
              "  </thead>\n",
              "  <tbody>\n",
              "    <tr>\n",
              "      <th>0</th>\n",
              "      <td>Rajeev</td>\n",
              "      <td>200000</td>\n",
              "    </tr>\n",
              "    <tr>\n",
              "      <th>1</th>\n",
              "      <td>Sumit</td>\n",
              "      <td>140000</td>\n",
              "    </tr>\n",
              "    <tr>\n",
              "      <th>2</th>\n",
              "      <td>Aviral</td>\n",
              "      <td>90000</td>\n",
              "    </tr>\n",
              "  </tbody>\n",
              "</table>\n",
              "</div>"
            ],
            "text/plain": [
              "  Employee Name  Income\n",
              "0        Rajeev  200000\n",
              "1         Sumit  140000\n",
              "2        Aviral   90000"
            ]
          },
          "metadata": {
            "tags": []
          },
          "execution_count": 120
        }
      ]
    },
    {
      "cell_type": "code",
      "metadata": {
        "id": "qyf0vhCF943M"
      },
      "source": [
        "employee_df.rename(columns = {'Employee Name':'Name'}, inplace=True)"
      ],
      "execution_count": null,
      "outputs": []
    },
    {
      "cell_type": "code",
      "metadata": {
        "id": "HqE2eQgt-HlY",
        "colab": {
          "base_uri": "https://localhost:8080/",
          "height": 141
        },
        "outputId": "37cebd43-cd7d-4904-a529-b1001d57d827"
      },
      "source": [
        "employee_df"
      ],
      "execution_count": null,
      "outputs": [
        {
          "output_type": "execute_result",
          "data": {
            "text/html": [
              "<div>\n",
              "<style scoped>\n",
              "    .dataframe tbody tr th:only-of-type {\n",
              "        vertical-align: middle;\n",
              "    }\n",
              "\n",
              "    .dataframe tbody tr th {\n",
              "        vertical-align: top;\n",
              "    }\n",
              "\n",
              "    .dataframe thead th {\n",
              "        text-align: right;\n",
              "    }\n",
              "</style>\n",
              "<table border=\"1\" class=\"dataframe\">\n",
              "  <thead>\n",
              "    <tr style=\"text-align: right;\">\n",
              "      <th></th>\n",
              "      <th>Name</th>\n",
              "      <th>Income</th>\n",
              "    </tr>\n",
              "  </thead>\n",
              "  <tbody>\n",
              "    <tr>\n",
              "      <th>0</th>\n",
              "      <td>Rajeev</td>\n",
              "      <td>200000</td>\n",
              "    </tr>\n",
              "    <tr>\n",
              "      <th>1</th>\n",
              "      <td>Sumit</td>\n",
              "      <td>140000</td>\n",
              "    </tr>\n",
              "    <tr>\n",
              "      <th>2</th>\n",
              "      <td>Aviral</td>\n",
              "      <td>90000</td>\n",
              "    </tr>\n",
              "  </tbody>\n",
              "</table>\n",
              "</div>"
            ],
            "text/plain": [
              "     Name  Income\n",
              "0  Rajeev  200000\n",
              "1   Sumit  140000\n",
              "2  Aviral   90000"
            ]
          },
          "metadata": {
            "tags": []
          },
          "execution_count": 125
        }
      ]
    },
    {
      "cell_type": "code",
      "metadata": {
        "id": "SQLw5XLRnKOU"
      },
      "source": [
        "employee_df = employee_df.rename({'Employee Name':'Name'},axis=1)"
      ],
      "execution_count": null,
      "outputs": []
    },
    {
      "cell_type": "code",
      "metadata": {
        "id": "NTpTzmZlnKOW",
        "colab": {
          "base_uri": "https://localhost:8080/",
          "height": 172
        },
        "outputId": "432ab544-28dc-49df-dd0f-515067ebbc60"
      },
      "source": [
        "employee_df"
      ],
      "execution_count": null,
      "outputs": [
        {
          "output_type": "execute_result",
          "data": {
            "text/html": [
              "<div>\n",
              "<style scoped>\n",
              "    .dataframe tbody tr th:only-of-type {\n",
              "        vertical-align: middle;\n",
              "    }\n",
              "\n",
              "    .dataframe tbody tr th {\n",
              "        vertical-align: top;\n",
              "    }\n",
              "\n",
              "    .dataframe thead th {\n",
              "        text-align: right;\n",
              "    }\n",
              "</style>\n",
              "<table border=\"1\" class=\"dataframe\">\n",
              "  <thead>\n",
              "    <tr style=\"text-align: right;\">\n",
              "      <th></th>\n",
              "      <th>Name</th>\n",
              "      <th>Income</th>\n",
              "    </tr>\n",
              "  </thead>\n",
              "  <tbody>\n",
              "    <tr>\n",
              "      <th>0</th>\n",
              "      <td>Rajeev</td>\n",
              "      <td>200000</td>\n",
              "    </tr>\n",
              "    <tr>\n",
              "      <th>1</th>\n",
              "      <td>Sumit</td>\n",
              "      <td>140000</td>\n",
              "    </tr>\n",
              "    <tr>\n",
              "      <th>2</th>\n",
              "      <td>Aviral</td>\n",
              "      <td>90000</td>\n",
              "    </tr>\n",
              "    <tr>\n",
              "      <th>3</th>\n",
              "      <td>Raghav</td>\n",
              "      <td>175000</td>\n",
              "    </tr>\n",
              "  </tbody>\n",
              "</table>\n",
              "</div>"
            ],
            "text/plain": [
              "     Name  Income\n",
              "0  Rajeev  200000\n",
              "1   Sumit  140000\n",
              "2  Aviral   90000\n",
              "3  Raghav  175000"
            ]
          },
          "metadata": {
            "tags": []
          },
          "execution_count": 45
        }
      ]
    },
    {
      "cell_type": "markdown",
      "metadata": {
        "id": "jrvJewIybkfk"
      },
      "source": [
        "## <b>Up till now, we have been creating our own simple dataframes and exploring them. But of course life is not that simple. Most of the data you would deal with in your jobs would be a lot bigger and messier. Let us start with first loading these data in our Python environment.</b>"
      ]
    },
    {
      "cell_type": "markdown",
      "metadata": {
        "id": "nTHu4WNDcUU9"
      },
      "source": [
        "### <u>Loading a CSV (Comma-Separated Values) file</u>"
      ]
    },
    {
      "cell_type": "markdown",
      "source": [
        "**Link to Dataset : -** https://drive.google.com/drive/folders/172FT8dWxPxLksoB5-U6HFRb7AiCvnP10"
      ],
      "metadata": {
        "id": "3DS-mmDwElkk"
      }
    },
    {
      "cell_type": "code",
      "metadata": {
        "id": "Dlqn0LG6-8fl",
        "colab": {
          "base_uri": "https://localhost:8080/",
          "height": 54
        },
        "outputId": "233a2d5b-5d00-46d3-b8a8-db14fa4abc33"
      },
      "source": [],
      "execution_count": null,
      "outputs": [
        {
          "output_type": "stream",
          "text": [
            "Drive already mounted at /content/drive; to attempt to forcibly remount, call drive.mount(\"/content/drive\", force_remount=True).\n"
          ],
          "name": "stdout"
        }
      ]
    },
    {
      "cell_type": "code",
      "metadata": {
        "colab": {
          "base_uri": "https://localhost:8080/"
        },
        "id": "uJqXZ-gLGyqA",
        "outputId": "de3469b1-f979-418e-d4fa-017f83dca6d8"
      },
      "source": [
        "from google.colab import drive\n",
        "drive.mount('/content/drive')"
      ],
      "execution_count": null,
      "outputs": [
        {
          "output_type": "stream",
          "text": [
            "Mounted at /content/drive\n"
          ],
          "name": "stdout"
        }
      ]
    },
    {
      "cell_type": "code",
      "metadata": {
        "id": "kgtFb5qbHFYe"
      },
      "source": [
        "import pandas as pd"
      ],
      "execution_count": null,
      "outputs": []
    },
    {
      "cell_type": "code",
      "metadata": {
        "id": "bYJyVV2onKOg"
      },
      "source": [
        "working_dir_path = '/content/drive/MyDrive/AlmaBetter/AlmaGrow/Lecture Materials/Python for Data Science/1.12 - Introduction to Pandas/dat'\n",
        "imdb_df=pd.read_csv(working_dir_path + '/imdb_data.csv')"
      ],
      "execution_count": null,
      "outputs": []
    },
    {
      "cell_type": "code",
      "metadata": {
        "id": "78AWsIdzBNtr"
      },
      "source": [
        "imdb_df = pd.read_csv('/content/drive/My Drive/AlmaBetter/Cohort Aravali/Module 1/Week 3/Day 3/Copy of Copy of imdb_data.csv')\n",
        "')"
      ],
      "execution_count": null,
      "outputs": []
    },
    {
      "cell_type": "code",
      "metadata": {
        "id": "dN8FItZpdGBw",
        "colab": {
          "base_uri": "https://localhost:8080/",
          "height": 633
        },
        "outputId": "98c045dd-0f08-484b-f743-52d0155f1647"
      },
      "source": [
        "imdb_df.head()"
      ],
      "execution_count": null,
      "outputs": [
        {
          "output_type": "execute_result",
          "data": {
            "text/html": [
              "<div>\n",
              "<style scoped>\n",
              "    .dataframe tbody tr th:only-of-type {\n",
              "        vertical-align: middle;\n",
              "    }\n",
              "\n",
              "    .dataframe tbody tr th {\n",
              "        vertical-align: top;\n",
              "    }\n",
              "\n",
              "    .dataframe thead th {\n",
              "        text-align: right;\n",
              "    }\n",
              "</style>\n",
              "<table border=\"1\" class=\"dataframe\">\n",
              "  <thead>\n",
              "    <tr style=\"text-align: right;\">\n",
              "      <th></th>\n",
              "      <th>id</th>\n",
              "      <th>belongs_to_collection</th>\n",
              "      <th>budget</th>\n",
              "      <th>genres</th>\n",
              "      <th>homepage</th>\n",
              "      <th>imdb_id</th>\n",
              "      <th>original_language</th>\n",
              "      <th>original_title</th>\n",
              "      <th>overview</th>\n",
              "      <th>popularity</th>\n",
              "      <th>poster_path</th>\n",
              "      <th>production_companies</th>\n",
              "      <th>production_countries</th>\n",
              "      <th>release_date</th>\n",
              "      <th>runtime</th>\n",
              "      <th>spoken_languages</th>\n",
              "      <th>status</th>\n",
              "      <th>tagline</th>\n",
              "      <th>title</th>\n",
              "      <th>Keywords</th>\n",
              "      <th>cast</th>\n",
              "      <th>crew</th>\n",
              "      <th>revenue</th>\n",
              "    </tr>\n",
              "  </thead>\n",
              "  <tbody>\n",
              "    <tr>\n",
              "      <th>0</th>\n",
              "      <td>1</td>\n",
              "      <td>[{'id': 313576, 'name': 'Hot Tub Time Machine ...</td>\n",
              "      <td>14000000</td>\n",
              "      <td>[{'id': 35, 'name': 'Comedy'}]</td>\n",
              "      <td>NaN</td>\n",
              "      <td>tt2637294</td>\n",
              "      <td>en</td>\n",
              "      <td>Hot Tub Time Machine 2</td>\n",
              "      <td>When Lou, who has become the \"father of the In...</td>\n",
              "      <td>6.575393</td>\n",
              "      <td>/tQtWuwvMf0hCc2QR2tkolwl7c3c.jpg</td>\n",
              "      <td>[{'name': 'Paramount Pictures', 'id': 4}, {'na...</td>\n",
              "      <td>[{'iso_3166_1': 'US', 'name': 'United States o...</td>\n",
              "      <td>2/20/15</td>\n",
              "      <td>93.0</td>\n",
              "      <td>[{'iso_639_1': 'en', 'name': 'English'}]</td>\n",
              "      <td>Released</td>\n",
              "      <td>The Laws of Space and Time are About to be Vio...</td>\n",
              "      <td>Hot Tub Time Machine 2</td>\n",
              "      <td>[{'id': 4379, 'name': 'time travel'}, {'id': 9...</td>\n",
              "      <td>[{'cast_id': 4, 'character': 'Lou', 'credit_id...</td>\n",
              "      <td>[{'credit_id': '59ac067c92514107af02c8c8', 'de...</td>\n",
              "      <td>12314651</td>\n",
              "    </tr>\n",
              "    <tr>\n",
              "      <th>1</th>\n",
              "      <td>2</td>\n",
              "      <td>[{'id': 107674, 'name': 'The Princess Diaries ...</td>\n",
              "      <td>40000000</td>\n",
              "      <td>[{'id': 35, 'name': 'Comedy'}, {'id': 18, 'nam...</td>\n",
              "      <td>NaN</td>\n",
              "      <td>tt0368933</td>\n",
              "      <td>en</td>\n",
              "      <td>The Princess Diaries 2: Royal Engagement</td>\n",
              "      <td>Mia Thermopolis is now a college graduate and ...</td>\n",
              "      <td>8.248895</td>\n",
              "      <td>/w9Z7A0GHEhIp7etpj0vyKOeU1Wx.jpg</td>\n",
              "      <td>[{'name': 'Walt Disney Pictures', 'id': 2}]</td>\n",
              "      <td>[{'iso_3166_1': 'US', 'name': 'United States o...</td>\n",
              "      <td>8/6/04</td>\n",
              "      <td>113.0</td>\n",
              "      <td>[{'iso_639_1': 'en', 'name': 'English'}]</td>\n",
              "      <td>Released</td>\n",
              "      <td>It can take a lifetime to find true love; she'...</td>\n",
              "      <td>The Princess Diaries 2: Royal Engagement</td>\n",
              "      <td>[{'id': 2505, 'name': 'coronation'}, {'id': 42...</td>\n",
              "      <td>[{'cast_id': 1, 'character': 'Mia Thermopolis'...</td>\n",
              "      <td>[{'credit_id': '52fe43fe9251416c7502563d', 'de...</td>\n",
              "      <td>95149435</td>\n",
              "    </tr>\n",
              "    <tr>\n",
              "      <th>2</th>\n",
              "      <td>3</td>\n",
              "      <td>NaN</td>\n",
              "      <td>3300000</td>\n",
              "      <td>[{'id': 18, 'name': 'Drama'}]</td>\n",
              "      <td>http://sonyclassics.com/whiplash/</td>\n",
              "      <td>tt2582802</td>\n",
              "      <td>en</td>\n",
              "      <td>Whiplash</td>\n",
              "      <td>Under the direction of a ruthless instructor, ...</td>\n",
              "      <td>64.299990</td>\n",
              "      <td>/lIv1QinFqz4dlp5U4lQ6HaiskOZ.jpg</td>\n",
              "      <td>[{'name': 'Bold Films', 'id': 2266}, {'name': ...</td>\n",
              "      <td>[{'iso_3166_1': 'US', 'name': 'United States o...</td>\n",
              "      <td>10/10/14</td>\n",
              "      <td>105.0</td>\n",
              "      <td>[{'iso_639_1': 'en', 'name': 'English'}]</td>\n",
              "      <td>Released</td>\n",
              "      <td>The road to greatness can take you to the edge.</td>\n",
              "      <td>Whiplash</td>\n",
              "      <td>[{'id': 1416, 'name': 'jazz'}, {'id': 1523, 'n...</td>\n",
              "      <td>[{'cast_id': 5, 'character': 'Andrew Neimann',...</td>\n",
              "      <td>[{'credit_id': '54d5356ec3a3683ba0000039', 'de...</td>\n",
              "      <td>13092000</td>\n",
              "    </tr>\n",
              "    <tr>\n",
              "      <th>3</th>\n",
              "      <td>4</td>\n",
              "      <td>NaN</td>\n",
              "      <td>1200000</td>\n",
              "      <td>[{'id': 53, 'name': 'Thriller'}, {'id': 18, 'n...</td>\n",
              "      <td>http://kahaanithefilm.com/</td>\n",
              "      <td>tt1821480</td>\n",
              "      <td>hi</td>\n",
              "      <td>Kahaani</td>\n",
              "      <td>Vidya Bagchi (Vidya Balan) arrives in Kolkata ...</td>\n",
              "      <td>3.174936</td>\n",
              "      <td>/aTXRaPrWSinhcmCrcfJK17urp3F.jpg</td>\n",
              "      <td>NaN</td>\n",
              "      <td>[{'iso_3166_1': 'IN', 'name': 'India'}]</td>\n",
              "      <td>3/9/12</td>\n",
              "      <td>122.0</td>\n",
              "      <td>[{'iso_639_1': 'en', 'name': 'English'}, {'iso...</td>\n",
              "      <td>Released</td>\n",
              "      <td>NaN</td>\n",
              "      <td>Kahaani</td>\n",
              "      <td>[{'id': 10092, 'name': 'mystery'}, {'id': 1054...</td>\n",
              "      <td>[{'cast_id': 1, 'character': 'Vidya Bagchi', '...</td>\n",
              "      <td>[{'credit_id': '52fe48779251416c9108d6eb', 'de...</td>\n",
              "      <td>16000000</td>\n",
              "    </tr>\n",
              "    <tr>\n",
              "      <th>4</th>\n",
              "      <td>5</td>\n",
              "      <td>NaN</td>\n",
              "      <td>0</td>\n",
              "      <td>[{'id': 28, 'name': 'Action'}, {'id': 53, 'nam...</td>\n",
              "      <td>NaN</td>\n",
              "      <td>tt1380152</td>\n",
              "      <td>ko</td>\n",
              "      <td>마린보이</td>\n",
              "      <td>Marine Boy is the story of a former national s...</td>\n",
              "      <td>1.148070</td>\n",
              "      <td>/m22s7zvkVFDU9ir56PiiqIEWFdT.jpg</td>\n",
              "      <td>NaN</td>\n",
              "      <td>[{'iso_3166_1': 'KR', 'name': 'South Korea'}]</td>\n",
              "      <td>2/5/09</td>\n",
              "      <td>118.0</td>\n",
              "      <td>[{'iso_639_1': 'ko', 'name': '한국어/조선말'}]</td>\n",
              "      <td>Released</td>\n",
              "      <td>NaN</td>\n",
              "      <td>Marine Boy</td>\n",
              "      <td>NaN</td>\n",
              "      <td>[{'cast_id': 3, 'character': 'Chun-soo', 'cred...</td>\n",
              "      <td>[{'credit_id': '52fe464b9251416c75073b43', 'de...</td>\n",
              "      <td>3923970</td>\n",
              "    </tr>\n",
              "  </tbody>\n",
              "</table>\n",
              "</div>"
            ],
            "text/plain": [
              "   id  ...   revenue\n",
              "0   1  ...  12314651\n",
              "1   2  ...  95149435\n",
              "2   3  ...  13092000\n",
              "3   4  ...  16000000\n",
              "4   5  ...   3923970\n",
              "\n",
              "[5 rows x 23 columns]"
            ]
          },
          "metadata": {
            "tags": []
          },
          "execution_count": 5
        }
      ]
    },
    {
      "cell_type": "code",
      "metadata": {
        "id": "4vgEnqITnKOi",
        "colab": {
          "base_uri": "https://localhost:8080/",
          "height": 545
        },
        "outputId": "84d415f7-5c92-4589-a9f3-75eed7a8c252"
      },
      "source": [
        "imdb_df.info()"
      ],
      "execution_count": null,
      "outputs": [
        {
          "output_type": "stream",
          "text": [
            "<class 'pandas.core.frame.DataFrame'>\n",
            "RangeIndex: 3000 entries, 0 to 2999\n",
            "Data columns (total 23 columns):\n",
            " #   Column                 Non-Null Count  Dtype  \n",
            "---  ------                 --------------  -----  \n",
            " 0   id                     3000 non-null   int64  \n",
            " 1   belongs_to_collection  604 non-null    object \n",
            " 2   budget                 3000 non-null   int64  \n",
            " 3   genres                 2993 non-null   object \n",
            " 4   homepage               946 non-null    object \n",
            " 5   imdb_id                3000 non-null   object \n",
            " 6   original_language      3000 non-null   object \n",
            " 7   original_title         3000 non-null   object \n",
            " 8   overview               2992 non-null   object \n",
            " 9   popularity             3000 non-null   float64\n",
            " 10  poster_path            2999 non-null   object \n",
            " 11  production_companies   2844 non-null   object \n",
            " 12  production_countries   2945 non-null   object \n",
            " 13  release_date           3000 non-null   object \n",
            " 14  runtime                2998 non-null   float64\n",
            " 15  spoken_languages       2980 non-null   object \n",
            " 16  status                 3000 non-null   object \n",
            " 17  tagline                2403 non-null   object \n",
            " 18  title                  3000 non-null   object \n",
            " 19  Keywords               2724 non-null   object \n",
            " 20  cast                   2987 non-null   object \n",
            " 21  crew                   2984 non-null   object \n",
            " 22  revenue                3000 non-null   int64  \n",
            "dtypes: float64(2), int64(3), object(18)\n",
            "memory usage: 539.2+ KB\n"
          ],
          "name": "stdout"
        }
      ]
    },
    {
      "cell_type": "code",
      "metadata": {
        "id": "4Scz2-V8nKOk",
        "colab": {
          "base_uri": "https://localhost:8080/",
          "height": 422
        },
        "outputId": "7a8bd05d-bb5d-4e90-d80d-69f228786c8d"
      },
      "source": [
        "list(imdb_df.columns)"
      ],
      "execution_count": null,
      "outputs": [
        {
          "output_type": "execute_result",
          "data": {
            "text/plain": [
              "['id',\n",
              " 'belongs_to_collection',\n",
              " 'budget',\n",
              " 'genres',\n",
              " 'homepage',\n",
              " 'imdb_id',\n",
              " 'original_language',\n",
              " 'original_title',\n",
              " 'overview',\n",
              " 'popularity',\n",
              " 'poster_path',\n",
              " 'production_companies',\n",
              " 'production_countries',\n",
              " 'release_date',\n",
              " 'runtime',\n",
              " 'spoken_languages',\n",
              " 'status',\n",
              " 'tagline',\n",
              " 'title',\n",
              " 'Keywords',\n",
              " 'cast',\n",
              " 'crew',\n",
              " 'revenue']"
            ]
          },
          "metadata": {
            "tags": []
          },
          "execution_count": 132
        }
      ]
    },
    {
      "cell_type": "code",
      "metadata": {
        "id": "r1ruDICkeyQE",
        "colab": {
          "base_uri": "https://localhost:8080/",
          "height": 34
        },
        "outputId": "610b03d0-d30e-4612-b40e-b2985ad59beb"
      },
      "source": [
        "imdb_df.shape"
      ],
      "execution_count": null,
      "outputs": [
        {
          "output_type": "execute_result",
          "data": {
            "text/plain": [
              "(3000, 23)"
            ]
          },
          "metadata": {
            "tags": []
          },
          "execution_count": 133
        }
      ]
    },
    {
      "cell_type": "code",
      "metadata": {
        "id": "78Np8FHrnKOp",
        "colab": {
          "base_uri": "https://localhost:8080/",
          "height": 34
        },
        "outputId": "ffbf6496-623f-4c72-885f-6c10cc497f9a"
      },
      "source": [
        "type(imdb_df)"
      ],
      "execution_count": null,
      "outputs": [
        {
          "output_type": "execute_result",
          "data": {
            "text/plain": [
              "pandas.core.frame.DataFrame"
            ]
          },
          "metadata": {
            "tags": []
          },
          "execution_count": 58
        }
      ]
    },
    {
      "cell_type": "markdown",
      "metadata": {
        "id": "ydCFb8tOfND3"
      },
      "source": [
        "###<u> Writing a CSV file in the location </u>"
      ]
    },
    {
      "cell_type": "code",
      "metadata": {
        "id": "W7PhRj-gfRIR"
      },
      "source": [
        "imdb_df.to_csv(working_dir_path +'output_imdb.csv')"
      ],
      "execution_count": null,
      "outputs": []
    },
    {
      "cell_type": "code",
      "metadata": {
        "id": "Ak6Hq__nCtVM"
      },
      "source": [],
      "execution_count": null,
      "outputs": []
    },
    {
      "cell_type": "code",
      "metadata": {
        "id": "OLbS3D0MGs17"
      },
      "source": [],
      "execution_count": null,
      "outputs": []
    }
  ]
}